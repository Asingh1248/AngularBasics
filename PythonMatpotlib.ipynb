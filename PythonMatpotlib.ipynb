{
  "nbformat": 4,
  "nbformat_minor": 0,
  "metadata": {
    "colab": {
      "name": "PythonMatpotlib.ipynb",
      "provenance": [],
      "collapsed_sections": [],
      "toc_visible": true,
      "authorship_tag": "ABX9TyPQBsCw1anOr0TmQwjOXfv2",
      "include_colab_link": true
    },
    "kernelspec": {
      "name": "python3",
      "display_name": "Python 3"
    }
  },
  "cells": [
    {
      "cell_type": "markdown",
      "metadata": {
        "id": "view-in-github",
        "colab_type": "text"
      },
      "source": [
        "<a href=\"https://colab.research.google.com/github/Asingh1248/AngularBasics/blob/master/PythonMatpotlib.ipynb\" target=\"_parent\"><img src=\"https://colab.research.google.com/assets/colab-badge.svg\" alt=\"Open In Colab\"/></a>"
      ]
    },
    {
      "cell_type": "markdown",
      "metadata": {
        "id": "zVs3tQF8N5i7",
        "colab_type": "text"
      },
      "source": [
        "# 1) Matpotlib Functional Method"
      ]
    },
    {
      "cell_type": "code",
      "metadata": {
        "id": "1i6qUfCmOGgQ",
        "colab_type": "code",
        "colab": {}
      },
      "source": [
        "import numpy as np\n",
        "import matplotlib.pyplot as plt\n",
        "from numpy.random import randint"
      ],
      "execution_count": 1,
      "outputs": []
    },
    {
      "cell_type": "code",
      "metadata": {
        "id": "pbax8Xp4OQiY",
        "colab_type": "code",
        "colab": {}
      },
      "source": [
        "x = np.linspace(0,10,20) # Returns Evenly space no over the specific interval"
      ],
      "execution_count": 3,
      "outputs": []
    },
    {
      "cell_type": "code",
      "metadata": {
        "id": "nPrdXrQhOfB3",
        "colab_type": "code",
        "colab": {
          "base_uri": "https://localhost:8080/",
          "height": 85
        },
        "outputId": "0dda3349-7b3e-4903-e134-3af74c76a8a5"
      },
      "source": [
        "x"
      ],
      "execution_count": 4,
      "outputs": [
        {
          "output_type": "execute_result",
          "data": {
            "text/plain": [
              "array([ 0.        ,  0.52631579,  1.05263158,  1.57894737,  2.10526316,\n",
              "        2.63157895,  3.15789474,  3.68421053,  4.21052632,  4.73684211,\n",
              "        5.26315789,  5.78947368,  6.31578947,  6.84210526,  7.36842105,\n",
              "        7.89473684,  8.42105263,  8.94736842,  9.47368421, 10.        ])"
            ]
          },
          "metadata": {
            "tags": []
          },
          "execution_count": 4
        }
      ]
    },
    {
      "cell_type": "code",
      "metadata": {
        "id": "0I4oy43HOlpO",
        "colab_type": "code",
        "colab": {}
      },
      "source": [
        "y =randint(0,50,20)"
      ],
      "execution_count": 5,
      "outputs": []
    },
    {
      "cell_type": "code",
      "metadata": {
        "id": "RfP_HsZVOsqm",
        "colab_type": "code",
        "colab": {}
      },
      "source": [
        "y = np.sort(y)"
      ],
      "execution_count": 7,
      "outputs": []
    },
    {
      "cell_type": "code",
      "metadata": {
        "id": "GMOuSiCdOvuG",
        "colab_type": "code",
        "colab": {
          "base_uri": "https://localhost:8080/",
          "height": 51
        },
        "outputId": "01e51d5b-fa23-444f-8b54-111c94bbc437"
      },
      "source": [
        "y"
      ],
      "execution_count": 8,
      "outputs": [
        {
          "output_type": "execute_result",
          "data": {
            "text/plain": [
              "array([ 9, 10, 10, 13, 14, 20, 20, 21, 21, 24, 24, 26, 30, 32, 33, 35, 40,\n",
              "       43, 45, 46])"
            ]
          },
          "metadata": {
            "tags": []
          },
          "execution_count": 8
        }
      ]
    },
    {
      "cell_type": "code",
      "metadata": {
        "id": "i0wjcyzMOxV-",
        "colab_type": "code",
        "colab": {
          "base_uri": "https://localhost:8080/",
          "height": 295
        },
        "outputId": "7ee32ed0-8371-45c6-e657-27adfa34642a"
      },
      "source": [
        "plt.plot(x,y,color='m',linestyle='--',marker='*',lw=1.5)  # refer the Documentation of matplotlib and use search options plot \n",
        "plt.xlabel('X axis')\n",
        "plt.ylabel('Y axis')\n",
        "plt.title('X vs Y axis')\n",
        "plt.show() # Hidden the details (Text (0.5,1.0 , 'X vs Y axis '))"
      ],
      "execution_count": 15,
      "outputs": [
        {
          "output_type": "display_data",
          "data": {
            "image/png": "[encoded data removed]",
            "text/plain": [
              "<Figure size 432x288 with 1 Axes>"
            ]
          },
          "metadata": {
            "tags": [],
            "needs_background": "light"
          }
        }
      ]
    },
    {
      "cell_type": "code",
      "metadata": {
        "id": "IyHryeIrQK0y",
        "colab_type": "code",
        "colab": {}
      },
      "source": [
        "# multiple plot on same canvas  # Searching Documentation"
      ],
      "execution_count": null,
      "outputs": []
    },
    {
      "cell_type": "code",
      "metadata": {
        "id": "MLFNXYgsQD5q",
        "colab_type": "code",
        "colab": {
          "base_uri": "https://localhost:8080/",
          "height": 282
        },
        "outputId": "8b5e4962-e01d-4978-ee40-89a1ff8d4688"
      },
      "source": [
        "plt.subplot(1,2,1)\n",
        "plt.plot(x,y,color='r')\n",
        "plt.subplot(1,2,2)\n",
        "plt.plot(x,y,color='m')"
      ],
      "execution_count": 17,
      "outputs": [
        {
          "output_type": "execute_result",
          "data": {
            "text/plain": [
              "[<matplotlib.lines.Line2D at 0x7f7d51fa8518>]"
            ]
          },
          "metadata": {
            "tags": []
          },
          "execution_count": 17
        },
        {
          "output_type": "display_data",
          "data": {
            "image/png": "[encoded data removed]",
            "text/plain": [
              "<Figure size 432x288 with 2 Axes>"
            ]
          },
          "metadata": {
            "tags": [],
            "needs_background": "light"
          }
        }
      ]
    },
    {
      "cell_type": "markdown",
      "metadata": {
        "id": "a5SH0UC_QtoB",
        "colab_type": "text"
      },
      "source": [
        "# 2 ) Object Oriented Method // But use Functional Methos"
      ]
    },
    {
      "cell_type": "code",
      "metadata": {
        "id": "AenV9HwQO5k1",
        "colab_type": "code",
        "colab": {}
      },
      "source": [
        "import numpy as np\n",
        "import matplotlib.pyplot as plt\n",
        "from numpy.random import randint"
      ],
      "execution_count": 18,
      "outputs": []
    },
    {
      "cell_type": "code",
      "metadata": {
        "id": "DP75U89wRC2i",
        "colab_type": "code",
        "colab": {}
      },
      "source": [
        "x = np.linspace(0,10,20)\n",
        "y =randint(0,50,20)\n",
        "y = np.sort(y)"
      ],
      "execution_count": 19,
      "outputs": []
    },
    {
      "cell_type": "code",
      "metadata": {
        "id": "7WSpJXAPRICD",
        "colab_type": "code",
        "colab": {}
      },
      "source": [
        "x"
      ],
      "execution_count": null,
      "outputs": []
    },
    {
      "cell_type": "code",
      "metadata": {
        "id": "N-zDPh-ORUNi",
        "colab_type": "code",
        "colab": {}
      },
      "source": [
        ""
      ],
      "execution_count": null,
      "outputs": []
    },
    {
      "cell_type": "code",
      "metadata": {
        "id": "QL1BwsrVRKDh",
        "colab_type": "code",
        "colab": {}
      },
      "source": [
        "y"
      ],
      "execution_count": null,
      "outputs": []
    },
    {
      "cell_type": "code",
      "metadata": {
        "id": "6Dspus0lRLUB",
        "colab_type": "code",
        "colab": {
          "base_uri": "https://localhost:8080/",
          "height": 353
        },
        "outputId": "6ca9bef4-bf60-4bb5-dba0-8660da90524f"
      },
      "source": [
        "fig = plt.figure() # Imaginary Blank Canvas # Define the Object\n",
        "axes = fig.add_axes([0.1,0.1,1,1]) # left Distnace from left ,bottom ,width , height\n",
        "axes.plot(x,y)\n",
        "# Add the other details  Xlabel ,YLabel , Title"
      ],
      "execution_count": 25,
      "outputs": [
        {
          "output_type": "execute_result",
          "data": {
            "text/plain": [
              "[<matplotlib.lines.Line2D at 0x7f7d51f25320>]"
            ]
          },
          "metadata": {
            "tags": []
          },
          "execution_count": 25
        },
        {
          "output_type": "display_data",
          "data": {
            "image/png": "[encoded data removed]",
            "text/plain": [
              "<Figure size 432x288 with 1 Axes>"
            ]
          },
          "metadata": {
            "tags": [],
            "needs_background": "light"
          }
        }
      ]
    },
    {
      "cell_type": "code",
      "metadata": {
        "id": "Y5VZxey2RjA6",
        "colab_type": "code",
        "colab": {}
      },
      "source": [
        "# Try with Two Set of Figures "
      ],
      "execution_count": null,
      "outputs": []
    },
    {
      "cell_type": "code",
      "metadata": {
        "id": "dUxtIgEPRZdR",
        "colab_type": "code",
        "colab": {
          "base_uri": "https://localhost:8080/",
          "height": 309
        },
        "outputId": "df2db518-21ea-4e59-8dfe-3eb7e3a500f2"
      },
      "source": [
        "fig = plt.figure() \n",
        "ax1= fig.add_axes([0.1,0.1,0.8,0.8]) # This are 0.8 is percentage \n",
        "ax2= fig.add_axes([0.2,0.5,0.4,0.3])  # Play around it \n",
        "\n",
        "ax1.plot(x,y , color ='r')\n",
        "ax1.set_xlabel('X axis')\n",
        "\n",
        "# Try with ax2 and other things "
      ],
      "execution_count": 31,
      "outputs": [
        {
          "output_type": "execute_result",
          "data": {
            "text/plain": [
              "Text(0.5, 0, 'X axis')"
            ]
          },
          "metadata": {
            "tags": []
          },
          "execution_count": 31
        },
        {
          "output_type": "display_data",
          "data": {
            "image/png": "[encoded data removed]",
            "text/plain": [
              "<Figure size 432x288 with 2 Axes>"
            ]
          },
          "metadata": {
            "tags": [],
            "needs_background": "light"
          }
        }
      ]
    },
    {
      "cell_type": "markdown",
      "metadata": {
        "id": "lF2kpftsTX_5",
        "colab_type": "text"
      },
      "source": [
        "## i ) Subplot Method"
      ]
    },
    {
      "cell_type": "code",
      "metadata": {
        "id": "Zsy3iy3iThhR",
        "colab_type": "code",
        "colab": {}
      },
      "source": [
        "import numpy as np\n",
        "import matplotlib.pyplot as plt\n",
        "from numpy.random import randint"
      ],
      "execution_count": 32,
      "outputs": []
    },
    {
      "cell_type": "code",
      "metadata": {
        "id": "9PP09cWGTdh_",
        "colab_type": "code",
        "colab": {}
      },
      "source": [
        "x = np.linspace(0,10,20)\n",
        "y =randint(0,50,20)\n",
        "y = np.sort(y)"
      ],
      "execution_count": 33,
      "outputs": []
    },
    {
      "cell_type": "code",
      "metadata": {
        "id": "l1v2cgV8ToiO",
        "colab_type": "code",
        "colab": {}
      },
      "source": [
        "x"
      ],
      "execution_count": null,
      "outputs": []
    },
    {
      "cell_type": "code",
      "metadata": {
        "id": "KiMGj-1OTqb1",
        "colab_type": "code",
        "colab": {}
      },
      "source": [
        "y"
      ],
      "execution_count": null,
      "outputs": []
    },
    {
      "cell_type": "code",
      "metadata": {
        "id": "ET_HopkOTsEO",
        "colab_type": "code",
        "colab": {}
      },
      "source": [
        "fig,axes = plt.subplots() # Defininf the Object and adding the axes at a time \n",
        "axes.plot(x,y)"
      ],
      "execution_count": null,
      "outputs": []
    },
    {
      "cell_type": "code",
      "metadata": {
        "id": "sh60SGbfUFOc",
        "colab_type": "code",
        "colab": {}
      },
      "source": [
        "fig,axes = plt.subplots(nrows=1,ncols=2)"
      ],
      "execution_count": null,
      "outputs": []
    },
    {
      "cell_type": "code",
      "metadata": {
        "id": "p8wdlcCsUJJj",
        "colab_type": "code",
        "colab": {}
      },
      "source": [
        "fig,axes = plt.subplots(nrows=2,ncols=3) # There is some Overlapping \n",
        "plt.tight_layout()"
      ],
      "execution_count": null,
      "outputs": []
    },
    {
      "cell_type": "code",
      "metadata": {
        "id": "1jnAHE7LUXha",
        "colab_type": "code",
        "colab": {}
      },
      "source": [
        "axes  # Its an array of matplotlib axes therefore we can iterate through each of the subplots  "
      ],
      "execution_count": null,
      "outputs": []
    },
    {
      "cell_type": "code",
      "metadata": {
        "id": "3GUl7vseTwQ3",
        "colab_type": "code",
        "colab": {}
      },
      "source": [
        "fig,axes = plt.subplots(nrows=1,ncols=2)\n",
        "for current_ax in axes:\n",
        "  current_ax.plot(x,y)"
      ],
      "execution_count": null,
      "outputs": []
    },
    {
      "cell_type": "code",
      "metadata": {
        "id": "84VrKvPrUlyl",
        "colab_type": "code",
        "colab": {}
      },
      "source": [
        "fig,axes = plt.subplots(nrows=1,ncols=2)\n",
        "axes[0].plot(x,y)\n",
        "axes[1].plot(x,y)\n",
        "axes[0].set_title('Plot 1')"
      ],
      "execution_count": null,
      "outputs": []
    },
    {
      "cell_type": "markdown",
      "metadata": {
        "id": "tJSp6NE0VSjJ",
        "colab_type": "text"
      },
      "source": [
        "# 3) Figure size, Aspect Ratio ,DPI, Legends "
      ]
    },
    {
      "cell_type": "code",
      "metadata": {
        "id": "c9EAG_ZLVYwi",
        "colab_type": "code",
        "colab": {}
      },
      "source": [
        "import numpy as np\n",
        "import matplotlib.pyplot as plt\n",
        "from numpy.random import randint"
      ],
      "execution_count": 45,
      "outputs": []
    },
    {
      "cell_type": "code",
      "metadata": {
        "id": "g0hsLLa_Vm-i",
        "colab_type": "code",
        "colab": {}
      },
      "source": [
        "x = np.linspace(0,10,20)\n",
        "y =randint(0,50,20)\n",
        "y = np.sort(y)"
      ],
      "execution_count": 47,
      "outputs": []
    },
    {
      "cell_type": "code",
      "metadata": {
        "id": "M_Qsc2gUVoLd",
        "colab_type": "code",
        "colab": {}
      },
      "source": [
        "fig= plt.figure(figsize=(3,2),dpi=100)  # (3,2) wd box ka width and ht box and ht  # dots per inch \n",
        "ax = fig.add_axes([0,0,1,1])  # \n",
        "ax.plot(x,y)"
      ],
      "execution_count": null,
      "outputs": []
    },
    {
      "cell_type": "code",
      "metadata": {
        "id": "oAOFLRSmV4ex",
        "colab_type": "code",
        "colab": {}
      },
      "source": [
        "fig,axes= plt.subplots(nrows=1,ncols=2,figsize=(7,2))  # \n",
        "axes[0].plot(x,y)\n",
        "axes[1].plot(x,y)"
      ],
      "execution_count": null,
      "outputs": []
    },
    {
      "cell_type": "code",
      "metadata": {
        "id": "43xrTXRGWtHG",
        "colab_type": "code",
        "colab": {}
      },
      "source": [
        "# Saving the image "
      ],
      "execution_count": null,
      "outputs": []
    },
    {
      "cell_type": "code",
      "metadata": {
        "id": "IdkoO3-DWxgI",
        "colab_type": "code",
        "colab": {}
      },
      "source": [
        "fig.savefig('my_pic.png',dpi=100)"
      ],
      "execution_count": 50,
      "outputs": []
    },
    {
      "cell_type": "code",
      "metadata": {
        "id": "w5gfttldW4py",
        "colab_type": "code",
        "colab": {}
      },
      "source": [
        "# legends \n",
        "fig = plt.figure()\n",
        "ax = fig.add_axes([0,0,1,1])\n",
        "ax.plot(x,x**2,label='X vs X sqaure ')\n",
        "ax.plot(x,x**3,label='X vs X cube')\n",
        "ax.legend()"
      ],
      "execution_count": null,
      "outputs": []
    },
    {
      "cell_type": "markdown",
      "metadata": {
        "id": "bakZuri1YilF",
        "colab_type": "text"
      },
      "source": [
        "# 4) Extra Properties with OOM method"
      ]
    },
    {
      "cell_type": "code",
      "metadata": {
        "id": "zkL6HvPSYsNg",
        "colab_type": "code",
        "colab": {}
      },
      "source": [
        "import numpy as np\n",
        "import matplotlib.pyplot as plt\n",
        "from numpy.random import randint"
      ],
      "execution_count": 55,
      "outputs": []
    },
    {
      "cell_type": "code",
      "metadata": {
        "id": "4XILb5jBXvRH",
        "colab_type": "code",
        "colab": {}
      },
      "source": [
        "x = np.linspace(0,10,20)\n",
        "y =randint(0,50,20)\n",
        "y = np.sort(y)"
      ],
      "execution_count": 56,
      "outputs": []
    },
    {
      "cell_type": "code",
      "metadata": {
        "id": "6rADy77EY7U8",
        "colab_type": "code",
        "colab": {}
      },
      "source": [
        "fig= plt.figure(figsize=(3,2),dpi=100)   \n",
        "ax = fig.add_axes([0,0,1,1]) \n",
        "ax.plot(x,y,color='g',lw=2,alpha =0.8,marker='o',markerfacecolor='yellow') # aplha controls line transpancey"
      ],
      "execution_count": null,
      "outputs": []
    },
    {
      "cell_type": "markdown",
      "metadata": {
        "id": "dMGYlk0fZz7B",
        "colab_type": "text"
      },
      "source": [
        "# 5 ) Different Plots with Functional methood "
      ]
    },
    {
      "cell_type": "code",
      "metadata": {
        "id": "OFF2LBdXaGws",
        "colab_type": "code",
        "colab": {}
      },
      "source": [
        "import matplotlib.pyplot as plt"
      ],
      "execution_count": 62,
      "outputs": []
    },
    {
      "cell_type": "markdown",
      "metadata": {
        "id": "1mH1d3UqaBPZ",
        "colab_type": "text"
      },
      "source": [
        "## i ) Scatter Plot "
      ]
    },
    {
      "cell_type": "code",
      "metadata": {
        "id": "PkWqPLeTaDyU",
        "colab_type": "code",
        "colab": {}
      },
      "source": [
        "y_views = [534,780,898,400,454,544,453]  # youttube , Fb , Twitter views \n",
        "f_views = [123,342,700,385,405,648,325]\n",
        "t_views = [282,209,178,418,824,389,550]\n",
        "days=[1,2,3,4,5,6,7]\n"
      ],
      "execution_count": 64,
      "outputs": []
    },
    {
      "cell_type": "code",
      "metadata": {
        "id": "pycKSLd0arIA",
        "colab_type": "code",
        "colab": {}
      },
      "source": [
        "plt.scatter(days,y_views,label='Youttube Views',marker='o')\n",
        "plt.scatter(days,f_views,label='Facebook Views',marker='o')\n",
        "plt.xlabel('Days')\n",
        "plt.legend()\n",
        "\n",
        "# Try with different options from Documentation"
      ],
      "execution_count": null,
      "outputs": []
    },
    {
      "cell_type": "markdown",
      "metadata": {
        "id": "zYUUa5GKb12h",
        "colab_type": "text"
      },
      "source": [
        "## ii) Bar plot"
      ]
    },
    {
      "cell_type": "code",
      "metadata": {
        "id": "81RGr5TObtLH",
        "colab_type": "code",
        "colab": {}
      },
      "source": [
        "# Try with Bar plot \n",
        "plt.bar(days,y_views,label='Youttube Views')\n",
        "plt.bar(days,f_views,label='Facebook Views')"
      ],
      "execution_count": null,
      "outputs": []
    },
    {
      "cell_type": "markdown",
      "metadata": {
        "id": "zeGb8OiycFHK",
        "colab_type": "text"
      },
      "source": [
        "##  iii ) Histogram (Double Hash technique to take in it )"
      ]
    },
    {
      "cell_type": "code",
      "metadata": {
        "id": "l215GuRgckg-",
        "colab_type": "code",
        "colab": {}
      },
      "source": [
        "plt.hist(y_views,f_views) #ValueError: `bins` must increase monotonically, when an array"
      ],
      "execution_count": null,
      "outputs": []
    },
    {
      "cell_type": "code",
      "metadata": {
        "id": "nPAagXqKdBxh",
        "colab_type": "code",
        "colab": {}
      },
      "source": [
        "points = [22,55,62,45,51,22,99,34,42,4,102,110,27,48,99,84]\n",
        "bins=[0,20,40,60,80,100,120]  # Increasing order"
      ],
      "execution_count": 71,
      "outputs": []
    },
    {
      "cell_type": "code",
      "metadata": {
        "id": "kD7XFICKdOCK",
        "colab_type": "code",
        "colab": {}
      },
      "source": [
        "plt.hist(points,bins)  # Comparison b/w diffrent values \n",
        "# x label ,ylabel , title ,show "
      ],
      "execution_count": null,
      "outputs": []
    },
    {
      "cell_type": "markdown",
      "metadata": {
        "id": "c9y9DTSHdx40",
        "colab_type": "text"
      },
      "source": [
        "## iv) Pie chart"
      ]
    },
    {
      "cell_type": "code",
      "metadata": {
        "id": "Ko_Sltr4dux6",
        "colab_type": "code",
        "colab": {}
      },
      "source": [
        "labels_l = ['Fb','Insta','Yb','Lk']\n",
        "views= [300,350,250,450]\n",
        "explode_1 = [0,0,0,0.2]  # Highlighting the Area "
      ],
      "execution_count": 80,
      "outputs": []
    },
    {
      "cell_type": "code",
      "metadata": {
        "id": "8WrKUwrZd_Ik",
        "colab_type": "code",
        "colab": {
          "base_uri": "https://localhost:8080/",
          "height": 248
        },
        "outputId": "47b52a4a-91cb-4c02-e42b-29a6b7159d47"
      },
      "source": [
        "plt.pie(views,labels=labels_l,autopct='%1.1f%%',explode= explode_1,shadow=True)  # Percentage \n",
        "plt.show()"
      ],
      "execution_count": 82,
      "outputs": [
        {
          "output_type": "display_data",
          "data": {
            "image/png": "[encoded data removed]",
            "text/plain": [
              "<Figure size 432x288 with 1 Axes>"
            ]
          },
          "metadata": {
            "tags": []
          }
        }
      ]
    },
    {
      "cell_type": "code",
      "metadata": {
        "id": "oTQvsdebebSi",
        "colab_type": "code",
        "colab": {}
      },
      "source": [
        ""
      ],
      "execution_count": null,
      "outputs": []
    },
    {
      "cell_type": "code",
      "metadata": {
        "id": "fL-jhznReHRK",
        "colab_type": "code",
        "colab": {}
      },
      "source": [
        ""
      ],
      "execution_count": null,
      "outputs": []
    }
  ]
}